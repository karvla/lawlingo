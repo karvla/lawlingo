{
 "cells": [
  {
   "cell_type": "markdown",
   "metadata": {},
   "source": [
    "# Lawlingo\n",
    "Importing stuff"
   ]
  },
  {
   "cell_type": "code",
   "execution_count": 2,
   "metadata": {},
   "outputs": [],
   "source": [
    "import requests\n",
    "from bs4 import BeautifulSoup\n",
    "from selenium import webdriver\n",
    "from selenium.webdriver.common.by import By\n",
    "from selenium.webdriver.support.ui import WebDriverWait\n",
    "from selenium.webdriver.chrome.options import Options\n",
    "from selenium.webdriver.support import expected_conditions as EC\n",
    "from time import sleep\n",
    "import os\n",
    "import urllib.request\n",
    "from urllib import parse\n",
    "import urllib.parse\n",
    "import regex as re\n",
    "import pandas as pd\n",
    "from joblib import Memory\n",
    "from datetime import datetime\n",
    "import textract\n",
    "from collections import Counter\n",
    "import matplotlib.pyplot as plt\n",
    "import csv\n",
    "import itertools\n",
    "memory = Memory('./cache', verbose=0)"
   ]
  },
  {
   "cell_type": "code",
   "execution_count": 24,
   "metadata": {},
   "outputs": [],
   "source": [
    "@memory.cache\n",
    "def text_from_url(url):\n",
    "    urllib.request.urlretrieve(url, \"./cache/temp.pdf\")\n",
    "    return textract.process('./cache/temp.pdf', encoding='utf-16').decode('utf-16')\n",
    "\n",
    "@memory.cache\n",
    "def get_domstol_se(section_url):\n",
    "    BASE_URL = \"https://www.domstol.se/\"\n",
    "    URL = BASE_URL + section_url\n",
    "    BANNER_CLASS_NAME = \"banner__button\"\n",
    "    MORE_CLASS_NAME = \"search-result-item__show-more-btn\"\n",
    "    \n",
    "    urls = []\n",
    "    driver = webdriver.Chrome('./chromedriver')\n",
    "    wait = WebDriverWait(driver, 10)\n",
    "    driver.get(URL)\n",
    "    sleep(1.0)\n",
    "    \n",
    "    banner_button = driver.find_element_by_class_name(BANNER_CLASS_NAME)\n",
    "    more_button = driver.find_element_by_class_name(MORE_CLASS_NAME)\n",
    "    \n",
    "    wait.until(EC.element_to_be_clickable((By.CLASS_NAME, BANNER_CLASS_NAME)))\n",
    "    banner_button.click()\n",
    "        \n",
    "    while True:\n",
    "        more_button.click()\n",
    "        try:\n",
    "            wait.until(EC.element_to_be_clickable((By.CLASS_NAME, MORE_CLASS_NAME)))\n",
    "        except:\n",
    "            break\n",
    "        \n",
    "    results = driver.find_elements_by_class_name(\"u-pr-huge--large\")\n",
    "    urls =  [item.get_attribute(\"href\") for item in results]\n",
    "    driver.close()\n",
    "    return urls\n",
    "\n",
    "\n",
    "@memory.cache\n",
    "def data_from_pdf_page(url):\n",
    "    page = requests.get(url)\n",
    "    soup = BeautifulSoup(page.text, \"html.parser\")\n",
    "\n",
    "    pdf_element = soup.find(\"a\", href=re.compile(r\".+\\.pdf\"))\n",
    "    date_element = soup.find(\"span\", class_ = \"publisher__byline\")\n",
    "   \n",
    "    date = datetime.fromisoformat(date_element.text[:-1])\n",
    "    if pdf_element is not None:\n",
    "        pdf_url = BASE_URL + pdf_element[\"href\"]\n",
    "        file_name = re.findall(r\"(.+\\/)*(.+\\..+)$\", pdf_url)[0][1]\n",
    "        text_fr\n",
    "        return {\"date\": date, \"url\": url, \"text\": text}\n",
    "        \n",
    "    else:\n",
    "        return None\n",
    "    \n",
    "def words(text):\n",
    "    \"\"\"\n",
    "    Returns a list of words from a text.\n",
    "    \"\"\"\n",
    "    text = text.lower()\n",
    "    text = re.sub('\\n', \" \", text)\n",
    "    text = re.sub('[/./?,!/:/(/)_]', \"\", text)\n",
    "    text = re.sub('[0-9]', \"\", text)\n",
    "    words = text.split()\n",
    "    return words\n",
    "\n"
   ]
  },
  {
   "cell_type": "code",
   "execution_count": 27,
   "metadata": {},
   "outputs": [],
   "source": [
    "# This does not work for the urls that contains non-ascii characters. \n",
    "@memory.cache\n",
    "def get_migrations():\n",
    "    data = []\n",
    "    \n",
    "    # From csv\n",
    "    with open(\"./migrations_dommar.csv\", newline='',  encoding='utf-8-sig') as csvfile:\n",
    "        reader = csv.DictReader(csvfile)\n",
    "        for row in reader:\n",
    "            date = row['Date']\n",
    "            url = row['Url']\n",
    "            if url[-3:] != \"pdf\":\n",
    "                data.append(data_from_pdf_page(url))\n",
    "                continue\n",
    "            try:\n",
    "                urllib.request.urlretrieve(url, \"./cache/temp.pdf\")\n",
    "            except:\n",
    "                print(\"Could not fetch \", date, url)\n",
    "                continue\n",
    "            text = textract.process('./cache/temp.pdf', encoding='utf-16').decode('utf-16')\n",
    "            data.append({'date': datetime.fromisoformat(date), 'url': url, 'text': text})\n",
    "            \n",
    "    # From folder\n",
    "    folder = './MigrationsoÌverdomstolen avgoÌranden/'\n",
    "    for file_name in os.listdir(folder):\n",
    "        print(file_name)\n",
    "        date = file_name[:10]\n",
    "        url = folder + file_name\n",
    "        text = textract.process(url, encoding='utf-16').decode('utf-16')\n",
    "        data.append({'date': datetime.fromisoformat(date), 'url': url, 'text': text})\n",
    "    \n",
    "    return data"
   ]
  },
  {
   "cell_type": "code",
   "execution_count": 39,
   "metadata": {},
   "outputs": [],
   "source": [
    "@memory.cache\n",
    "def get_arbets():\n",
    "    data = []\n",
    "    URL = \"http://www.arbetsdomstolen.se/pages/page.asp?lngID=4&lngLangID=1&Year={}\"\n",
    "    BASE = \"http://www.arbetsdomstolen.se/pages/page.asp\"\n",
    "    for year in range(2003, 2020):\n",
    "        page = requests.get(URL.format(year))\n",
    "        soup = BeautifulSoup(page.text, 'html.parser')\n",
    "        content = soup.find(id=\"content\")\n",
    "\n",
    "        for element in content.find_all(\"li\"):\n",
    "            result_url = element.find(\"a\")['href']\n",
    "            pdf_url = _arbets_pdf(BASE + result_url)\n",
    "            title = element.find(\"strong\").contents[0]\n",
    "            date = re.findall(\"\\d{4}-\\d{2}-\\d{2}\", title)[0]\n",
    "            if pdf_url is not None:\n",
    "                try:\n",
    "                    text = text_from_url(pdf_url)\n",
    "                except:\n",
    "                    print(\"Failed\", pdf_url)\n",
    "                    continue\n",
    "                data.append({\"date\": datetime.fromisoformat(date), \"url\": pdf_url, \"text\": text})\n",
    "                print(\"Downloaded\", pdf_url)\n",
    "\n",
    "    return data\n",
    "\n",
    "def _arbets_pdf(url):\n",
    "    BASE = \"http://www.arbetsdomstolen.se/\"\n",
    "    page = requests.get(url)\n",
    "    soup = BeautifulSoup(page.text, 'html.parser')\n",
    "    for link in soup.find_all(\"a\"):\n",
    "        if re.match(r\".+\\.pdf\", str(link.get('href'))):\n",
    "            return BASE + link['href'][2:]\n",
    "    \n",
    "    return None\n",
    "        "
   ]
  },
  {
   "cell_type": "markdown",
   "metadata": {},
   "source": [
    "## Downloading and sorting data from decisions."
   ]
  },
  {
   "cell_type": "code",
   "execution_count": 4,
   "metadata": {},
   "outputs": [],
   "source": [
    "# Adding decistions from Högsta Domstolen\n",
    "df_hd = pd.DataFrame([data_from_pdf_page(url) for url in get_domstol_se(\"hogsta-domstolen/avgoranden/?f=DecisionType_list:decision\") if data_from_pdf_page(url) is not None])\n",
    "df_hd[\"type\"] = \"HD\""
   ]
  },
  {
   "cell_type": "code",
   "execution_count": 5,
   "metadata": {},
   "outputs": [],
   "source": [
    "# Adding decistions from Högsta förvaltningsdomstolen\n",
    "df_fd = pd.DataFrame([data_from_pdf_page(url) for url in get_domstol_se(\"hogsta-forvaltningsdomstolen/avgoranden/\") if data_from_pdf_page(url) is not None])\n",
    "df_fd[\"type\"] = \"FD\""
   ]
  },
  {
   "cell_type": "code",
   "execution_count": 9,
   "metadata": {},
   "outputs": [],
   "source": [
    "# Adding descisions from Migrationsdomstolen\n",
    "df_md = pd.DataFrame(get_migrations())\n",
    "df_md[\"type\"] = \"MD\""
   ]
  },
  {
   "cell_type": "code",
   "execution_count": 202,
   "metadata": {},
   "outputs": [],
   "source": [
    "# Adding descisions from Arbetsdomstolen\n",
    "df_ad = pd.DataFrame(get_arbets())\n",
    "df_ad[\"type\"] = \"AD\""
   ]
  },
  {
   "cell_type": "code",
   "execution_count": 42,
   "metadata": {},
   "outputs": [],
   "source": [
    "df = pd.DataFrame().append([df_hd, df_fd, df_md, df_ad])"
   ]
  },
  {
   "cell_type": "code",
   "execution_count": 43,
   "metadata": {},
   "outputs": [],
   "source": [
    "# Counting words\n",
    "df['word_count'] = list(map(lambda x: Counter(words(x)), df['text']))\n",
    "df['n_words'] = list(map(lambda x: len(words(x)), df['text']))\n",
    "\n",
    "# Counting occurences of blacklisted words\n",
    "with open('./svartlistadeord.txt') as f:\n",
    "    illegal_words = tuple(f.read().splitlines())\n",
    "    \n",
    "with open('./svartlistadeordstammar.txt') as f:\n",
    "    illegal_word_stems = tuple(f.read().splitlines())\n",
    "    \n",
    "def illegal_count(text):\n",
    "    counter = Counter()\n",
    "    for word in illegal_word_stems:\n",
    "        key = r\"\\s(\" + word + \"\\p{L}+)\"\n",
    "        matches = re.finditer(key, text)\n",
    "        counter.update([m.group(1) for m in matches])\n",
    "        \n",
    "    for word in illegal_words:\n",
    "        key = r\"\\s(\" + word + \")\"\n",
    "        matches = re.finditer(key, text)\n",
    "        counter.update([m.group(1) for m in matches])\n",
    "        \n",
    "    return counter\n",
    "    \n",
    "df['illegal_count'] = list(map(illegal_count, df['text']))\n",
    "df['n_illegal_occurences'] = list(map(lambda x: sum(x.values()), df['illegal_count']))\n",
    "\n",
    "# Calculating the ratio of blacklisted words\n",
    "df['illegal_ratio'] = df['n_illegal_occurences']/df['n_words']"
   ]
  },
  {
   "cell_type": "markdown",
   "metadata": {},
   "source": [
    "## Plotting data"
   ]
  },
  {
   "cell_type": "code",
   "execution_count": 44,
   "metadata": {},
   "outputs": [],
   "source": [
    "df.set_index('date', inplace=True)"
   ]
  },
  {
   "cell_type": "code",
   "execution_count": 45,
   "metadata": {},
   "outputs": [],
   "source": [
    "df = df.sort_index()"
   ]
  },
  {
   "cell_type": "code",
   "execution_count": 46,
   "metadata": {},
   "outputs": [
    {
     "name": "stdout",
     "output_type": "stream",
     "text": [
      "Mean illegal ratio HD: 0.00537130210875959\n",
      "Mean illegal ratio MD: 0.0035231176514371023\n",
      "Mean illegal ratio FD: 0.004548303783287122\n"
     ]
    }
   ],
   "source": [
    "print(\"Mean illegal ratio HD:\", df.loc[df['type'] == \"HD\"]['illegal_ratio'].mean())\n",
    "print(\"Mean illegal ratio MD:\", df.loc[df['type'] == \"MD\"]['illegal_ratio'].mean())\n",
    "print(\"Mean illegal ratio FD:\", df.loc[df['type'] == \"FD\"]['illegal_ratio'].mean())"
   ]
  },
  {
   "cell_type": "code",
   "execution_count": 133,
   "metadata": {},
   "outputs": [
    {
     "data": {
      "text/plain": [
       "<matplotlib.axes._subplots.AxesSubplot at 0x7f94de6fe050>"
      ]
     },
     "execution_count": 133,
     "metadata": {},
     "output_type": "execute_result"
    },
    {
     "data": {
      "image/png": "[encoded data removed]",
      "text/plain": [
       "<Figure size 720x720 with 1 Axes>"
      ]
     },
     "metadata": {
      "needs_background": "light"
     },
     "output_type": "display_data"
    }
   ],
   "source": [
    "df.loc[df['type'] == 'HD']['illegal_ratio'].rolling('500d').mean().plot(label=\"HD\", legend = True, title= 'Mean blacklisted word ratio over time', figsize=(10, 10))\n",
    "df.loc[df['type'] == 'MD']['illegal_ratio'].rolling('500d').mean().plot(label=\"MD\", legend = True)\n",
    "df.loc[df['type'] == 'FD']['illegal_ratio'].rolling('500d').mean().plot(label=\"FD\", legend = True)\n",
    "df.loc[df['type'] == 'AD']['illegal_ratio'].rolling('500d').mean().plot(label=\"AD\", legend = True)"
   ]
  },
  {
   "cell_type": "markdown",
   "metadata": {},
   "source": [
    "## Most common blacklisted words"
   ]
  },
  {
   "cell_type": "code",
   "execution_count": 48,
   "metadata": {},
   "outputs": [
    {
     "data": {
      "text/plain": [
       "[('företa', 8659),\n",
       " ('föreligger', 5392),\n",
       " ('förelegat', 2643),\n",
       " ('förelegat ', 2036),\n",
       " ('föreligga', 1741),\n",
       " ('förelåg', 1580),\n",
       " ('erfar', 1218),\n",
       " ('underlåtit', 1204),\n",
       " ('erfaren', 1178),\n",
       " ('föranlett', 1178),\n",
       " ('förfall', 950),\n",
       " ('erhållit', 912),\n",
       " ('erhålla', 751),\n",
       " ('underlåten', 719),\n",
       " ('föranleder', 670),\n",
       " ('jämkas', 640),\n",
       " ('nyttja', 616),\n",
       " ('erhöll', 601),\n",
       " ('förordnande', 559),\n",
       " ('föranleda', 549)]"
      ]
     },
     "execution_count": 48,
     "metadata": {},
     "output_type": "execute_result"
    }
   ],
   "source": [
    "counter = Counter()\n",
    "for count in df['illegal_count'].iloc:\n",
    "    counter += count\n",
    "counter.most_common(20)"
   ]
  },
  {
   "cell_type": "markdown",
   "metadata": {},
   "source": [
    "## Max and min ratios"
   ]
  },
  {
   "cell_type": "code",
   "execution_count": 203,
   "metadata": {},
   "outputs": [],
   "source": [
    "pd.set_option('max_colwidth', None)"
   ]
  },
  {
   "cell_type": "code",
   "execution_count": 204,
   "metadata": {},
   "outputs": [
    {
     "data": {
      "text/html": [
       "<div>\n",
       "<style scoped>\n",
       "    .dataframe tbody tr th:only-of-type {\n",
       "        vertical-align: middle;\n",
       "    }\n",
       "\n",
       "    .dataframe tbody tr th {\n",
       "        vertical-align: top;\n",
       "    }\n",
       "\n",
       "    .dataframe thead th {\n",
       "        text-align: right;\n",
       "    }\n",
       "</style>\n",
       "<table border=\"1\" class=\"dataframe\">\n",
       "  <thead>\n",
       "    <tr style=\"text-align: right;\">\n",
       "      <th></th>\n",
       "      <th>url</th>\n",
       "      <th>type</th>\n",
       "    </tr>\n",
       "  </thead>\n",
       "  <tbody>\n",
       "    <tr>\n",
       "      <th>8</th>\n",
       "      <td>http://www.arbetsdomstolen.se//upload/pdf/15-03.pdf</td>\n",
       "      <td>AD</td>\n",
       "    </tr>\n",
       "    <tr>\n",
       "      <th>424</th>\n",
       "      <td>https://www.domstol.se/hogsta-forvaltningsdomstolen/avgoranden/2010/50280/</td>\n",
       "      <td>FD</td>\n",
       "    </tr>\n",
       "    <tr>\n",
       "      <th>478</th>\n",
       "      <td>https://www.domstol.se/hogsta-domstolen/avgoranden/2010/38235/</td>\n",
       "      <td>HD</td>\n",
       "    </tr>\n",
       "    <tr>\n",
       "      <th>2653</th>\n",
       "      <td>./MigrationsoÌverdomstolen avgoÌranden/2017-01-18.pdf</td>\n",
       "      <td>MD</td>\n",
       "    </tr>\n",
       "  </tbody>\n",
       "</table>\n",
       "</div>"
      ],
      "text/plain": [
       "                                                                             url type\n",
       "8                            http://www.arbetsdomstolen.se//upload/pdf/15-03.pdf   AD\n",
       "424   https://www.domstol.se/hogsta-forvaltningsdomstolen/avgoranden/2010/50280/   FD\n",
       "478               https://www.domstol.se/hogsta-domstolen/avgoranden/2010/38235/   HD\n",
       "2653                     ./MigrationsoÌverdomstolen avgoÌranden/2017-01-18.pdf   MD"
      ]
     },
     "execution_count": 204,
     "metadata": {},
     "output_type": "execute_result"
    }
   ],
   "source": [
    "# Min\n",
    "df.loc[df.groupby(['type'])['illegal_ratio'].idxmin()][['url', 'type']]"
   ]
  },
  {
   "cell_type": "code",
   "execution_count": 201,
   "metadata": {},
   "outputs": [
    {
     "data": {
      "text/html": [
       "<div>\n",
       "<style scoped>\n",
       "    .dataframe tbody tr th:only-of-type {\n",
       "        vertical-align: middle;\n",
       "    }\n",
       "\n",
       "    .dataframe tbody tr th {\n",
       "        vertical-align: top;\n",
       "    }\n",
       "\n",
       "    .dataframe thead th {\n",
       "        text-align: right;\n",
       "    }\n",
       "</style>\n",
       "<table border=\"1\" class=\"dataframe\">\n",
       "  <thead>\n",
       "    <tr style=\"text-align: right;\">\n",
       "      <th></th>\n",
       "      <th>url</th>\n",
       "      <th>type</th>\n",
       "    </tr>\n",
       "  </thead>\n",
       "  <tbody>\n",
       "    <tr>\n",
       "      <th>312</th>\n",
       "      <td>http://www.arbetsdomstolen.se//upload/pdf/2008/75-08.pdf</td>\n",
       "      <td>AD</td>\n",
       "    </tr>\n",
       "    <tr>\n",
       "      <th>2500</th>\n",
       "      <td>https://www.domstol.se/hogsta-forvaltningsdomstolen/avgoranden/2016/43678/</td>\n",
       "      <td>FD</td>\n",
       "    </tr>\n",
       "    <tr>\n",
       "      <th>2991</th>\n",
       "      <td>https://www.domstol.se/hogsta-domstolen/avgoranden/2018/35202/</td>\n",
       "      <td>HD</td>\n",
       "    </tr>\n",
       "    <tr>\n",
       "      <th>2903</th>\n",
       "      <td>./MigrationsoÌverdomstolen avgoÌranden/2017-11-14.pdf</td>\n",
       "      <td>MD</td>\n",
       "    </tr>\n",
       "  </tbody>\n",
       "</table>\n",
       "</div>"
      ],
      "text/plain": [
       "                                                                             url type\n",
       "312   http://www.arbetsdomstolen.se//upload/pdf/2008/75-08.pdf                    AD \n",
       "2500  https://www.domstol.se/hogsta-forvaltningsdomstolen/avgoranden/2016/43678/  FD \n",
       "2991  https://www.domstol.se/hogsta-domstolen/avgoranden/2018/35202/              HD \n",
       "2903  ./MigrationsoÌverdomstolen avgoÌranden/2017-11-14.pdf                     MD "
      ]
     },
     "execution_count": 201,
     "metadata": {},
     "output_type": "execute_result"
    }
   ],
   "source": [
    "# Max\n",
    "df.loc[df.groupby(['type'])['illegal_ratio'].idxmax()][['url', 'type']]"
   ]
  }
 ],
 "metadata": {
  "kernelspec": {
   "display_name": "Python 3",
   "language": "python",
   "name": "python3"
  },
  "language_info": {
   "codemirror_mode": {
    "name": "ipython",
    "version": 3
   },
   "file_extension": ".py",
   "mimetype": "text/x-python",
   "name": "python",
   "nbconvert_exporter": "python",
   "pygments_lexer": "ipython3",
   "version": "3.7.4"
  }
 },
 "nbformat": 4,
 "nbformat_minor": 4
}
