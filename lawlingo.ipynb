{
 "cells": [
  {
   "cell_type": "markdown",
   "metadata": {},
   "source": [
    "# Lawlingo\n",
    "Importing stuff"
   ]
  },
  {
   "cell_type": "code",
   "execution_count": 2,
   "metadata": {},
   "outputs": [],
   "source": [
    "import requests\n",
    "from bs4 import BeautifulSoup\n",
    "from selenium import webdriver\n",
    "from selenium.webdriver.common.by import By\n",
    "from selenium.webdriver.support.ui import WebDriverWait\n",
    "from selenium.webdriver.chrome.options import Options\n",
    "from selenium.webdriver.support import expected_conditions as EC\n",
    "from time import sleep\n",
    "import os\n",
    "import urllib.request\n",
    "from urllib import parse\n",
    "import urllib.parse\n",
    "import regex as re\n",
    "import pandas as pd\n",
    "from joblib import Memory\n",
    "from datetime import datetime\n",
    "import textract\n",
    "from collections import Counter\n",
    "import matplotlib.pyplot as plt\n",
    "import csv\n",
    "import itertools\n",
    "memory = Memory('./cache', verbose=0)"
   ]
  },
  {
   "cell_type": "code",
   "execution_count": 24,
   "metadata": {},
   "outputs": [],
   "source": [
    "@memory.cache\n",
    "def text_from_url(url):\n",
    "    urllib.request.urlretrieve(url, \"./cache/temp.pdf\")\n",
    "    return textract.process('./cache/temp.pdf', encoding='utf-16').decode('utf-16')\n",
    "\n",
    "@memory.cache\n",
    "def get_domstol_se(section_url):\n",
    "    BASE_URL = \"https://www.domstol.se/\"\n",
    "    URL = BASE_URL + section_url\n",
    "    BANNER_CLASS_NAME = \"banner__button\"\n",
    "    MORE_CLASS_NAME = \"search-result-item__show-more-btn\"\n",
    "    \n",
    "    urls = []\n",
    "    driver = webdriver.Chrome('./chromedriver')\n",
    "    wait = WebDriverWait(driver, 10)\n",
    "    driver.get(URL)\n",
    "    sleep(1.0)\n",
    "    \n",
    "    banner_button = driver.find_element_by_class_name(BANNER_CLASS_NAME)\n",
    "    more_button = driver.find_element_by_class_name(MORE_CLASS_NAME)\n",
    "    \n",
    "    wait.until(EC.element_to_be_clickable((By.CLASS_NAME, BANNER_CLASS_NAME)))\n",
    "    banner_button.click()\n",
    "        \n",
    "    while True:\n",
    "        more_button.click()\n",
    "        try:\n",
    "            wait.until(EC.element_to_be_clickable((By.CLASS_NAME, MORE_CLASS_NAME)))\n",
    "        except:\n",
    "            break\n",
    "        \n",
    "    results = driver.find_elements_by_class_name(\"u-pr-huge--large\")\n",
    "    urls =  [item.get_attribute(\"href\") for item in results]\n",
    "    driver.close()\n",
    "    return urls\n",
    "\n",
    "\n",
    "@memory.cache\n",
    "def data_from_pdf_page(url):\n",
    "    page = requests.get(url)\n",
    "    soup = BeautifulSoup(page.text, \"html.parser\")\n",
    "\n",
    "    pdf_element = soup.find(\"a\", href=re.compile(r\".+\\.pdf\"))\n",
    "    date_element = soup.find(\"span\", class_ = \"publisher__byline\")\n",
    "   \n",
    "    date = datetime.fromisoformat(date_element.text[:-1])\n",
    "    if pdf_element is not None:\n",
    "        pdf_url = BASE_URL + pdf_element[\"href\"]\n",
    "        file_name = re.findall(r\"(.+\\/)*(.+\\..+)$\", pdf_url)[0][1]\n",
    "        text_fr\n",
    "        return {\"date\": date, \"url\": url, \"text\": text}\n",
    "        \n",
    "    else:\n",
    "        return None\n",
    "    \n",
    "def words(text):\n",
    "    \"\"\"\n",
    "    Returns a list of words from a text.\n",
    "    \"\"\"\n",
    "    text = text.lower()\n",
    "    text = re.sub('\\n', \" \", text)\n",
    "    text = re.sub('[/./?,!/:/(/)_]', \"\", text)\n",
    "    text = re.sub('[0-9]', \"\", text)\n",
    "    words = text.split()\n",
    "    return words\n",
    "\n"
   ]
  },
  {
   "cell_type": "code",
   "execution_count": 27,
   "metadata": {},
   "outputs": [],
   "source": [
    "# This does not work for the urls that contains non-ascii characters. \n",
    "@memory.cache\n",
    "def get_migrations():\n",
    "    data = []\n",
    "    \n",
    "    # From csv\n",
    "    with open(\"./migrations_dommar.csv\", newline='',  encoding='utf-8-sig') as csvfile:\n",
    "        reader = csv.DictReader(csvfile)\n",
    "        for row in reader:\n",
    "            date = row['Date']\n",
    "            url = row['Url']\n",
    "            if url[-3:] != \"pdf\":\n",
    "                data.append(data_from_pdf_page(url))\n",
    "                continue\n",
    "            try:\n",
    "                urllib.request.urlretrieve(url, \"./cache/temp.pdf\")\n",
    "            except:\n",
    "                print(\"Could not fetch \", date, url)\n",
    "                continue\n",
    "            text = textract.process('./cache/temp.pdf', encoding='utf-16').decode('utf-16')\n",
    "            data.append({'date': datetime.fromisoformat(date), 'url': url, 'text': text})\n",
    "            \n",
    "    # From folder\n",
    "    folder = './MigrationsoÌverdomstolen avgoÌranden/'\n",
    "    for file_name in os.listdir(folder):\n",
    "        print(file_name)\n",
    "        date = file_name[:10]\n",
    "        url = folder + file_name\n",
    "        text = textract.process(url, encoding='utf-16').decode('utf-16')\n",
    "        data.append({'date': datetime.fromisoformat(date), 'url': url, 'text': text})\n",
    "    \n",
    "    return data"
   ]
  },
  {
   "cell_type": "code",
   "execution_count": 39,
   "metadata": {},
   "outputs": [],
   "source": [
    "@memory.cache\n",
    "def get_arbets():\n",
    "    data = []\n",
    "    URL = \"http://www.arbetsdomstolen.se/pages/page.asp?lngID=4&lngLangID=1&Year={}\"\n",
    "    BASE = \"http://www.arbetsdomstolen.se/pages/page.asp\"\n",
    "    for year in range(2003, 2020):\n",
    "        page = requests.get(URL.format(year))\n",
    "        soup = BeautifulSoup(page.text, 'html.parser')\n",
    "        content = soup.find(id=\"content\")\n",
    "\n",
    "        for element in content.find_all(\"li\"):\n",
    "            result_url = element.find(\"a\")['href']\n",
    "            pdf_url = _arbets_pdf(BASE + result_url)\n",
    "            title = element.find(\"strong\").contents[0]\n",
    "            date = re.findall(\"\\d{4}-\\d{2}-\\d{2}\", title)[0]\n",
    "            if pdf_url is not None:\n",
    "                try:\n",
    "                    text = text_from_url(pdf_url)\n",
    "                except:\n",
    "                    print(\"Failed\", pdf_url)\n",
    "                    continue\n",
    "                data.append({\"date\": datetime.fromisoformat(date), \"url\": pdf_url, \"text\": text})\n",
    "                print(\"Downloaded\", pdf_url)\n",
    "\n",
    "    return data\n",
    "\n",
    "def _arbets_pdf(url):\n",
    "    BASE = \"http://www.arbetsdomstolen.se/\"\n",
    "    page = requests.get(url)\n",
    "    soup = BeautifulSoup(page.text, 'html.parser')\n",
    "    for link in soup.find_all(\"a\"):\n",
    "        if re.match(r\".+\\.pdf\", str(link.get('href'))):\n",
    "            return BASE + link['href'][2:]\n",
    "    \n",
    "    return None\n",
    "        "
   ]
  },
  {
   "cell_type": "markdown",
   "metadata": {},
   "source": [
    "## Downloading and sorting data from decisions."
   ]
  },
  {
   "cell_type": "code",
   "execution_count": 4,
   "metadata": {},
   "outputs": [],
   "source": [
    "# Adding decistions from Högsta Domstolen\n",
    "df_hd = pd.DataFrame([data_from_pdf_page(url) for url in get_domstol_se(\"hogsta-domstolen/avgoranden/?f=DecisionType_list:decision\") if data_from_pdf_page(url) is not None])\n",
    "df_hd[\"type\"] = \"HD\""
   ]
  },
  {
   "cell_type": "code",
   "execution_count": 5,
   "metadata": {},
   "outputs": [],
   "source": [
    "# Adding decistions from Högsta förvaltningsdomstolen\n",
    "df_fd = pd.DataFrame([data_from_pdf_page(url) for url in get_domstol_se(\"hogsta-forvaltningsdomstolen/avgoranden/\") if data_from_pdf_page(url) is not None])\n",
    "df_fd[\"type\"] = \"FD\""
   ]
  },
  {
   "cell_type": "code",
   "execution_count": 9,
   "metadata": {},
   "outputs": [],
   "source": [
    "# Adding descisions from Migrationsdomstolen\n",
    "df_md = pd.DataFrame(get_migrations())\n",
    "df_md[\"type\"] = \"MD\""
   ]
  },
  {
   "cell_type": "code",
   "execution_count": 202,
   "metadata": {},
   "outputs": [],
   "source": [
    "# Adding descisions from Arbetsdomstolen\n",
    "df_ad = pd.DataFrame(get_arbets())\n",
    "df_ad[\"type\"] = \"AD\""
   ]
  },
  {
   "cell_type": "code",
   "execution_count": 42,
   "metadata": {},
   "outputs": [],
   "source": [
    "df = pd.DataFrame().append([df_hd, df_fd, df_md, df_ad])"
   ]
  },
  {
   "cell_type": "code",
   "execution_count": 43,
   "metadata": {},
   "outputs": [],
   "source": [
    "# Counting words\n",
    "df['word_count'] = list(map(lambda x: Counter(words(x)), df['text']))\n",
    "df['n_words'] = list(map(lambda x: len(words(x)), df['text']))\n",
    "\n",
    "# Counting occurences of blacklisted words\n",
    "with open('./svartlistadeord.txt') as f:\n",
    "    illegal_words = tuple(f.read().splitlines())\n",
    "    \n",
    "with open('./svartlistadeordstammar.txt') as f:\n",
    "    illegal_word_stems = tuple(f.read().splitlines())\n",
    "    \n",
    "def illegal_count(text):\n",
    "    counter = Counter()\n",
    "    for word in illegal_word_stems:\n",
    "        key = r\"\\s(\" + word + \"\\p{L}+)\"\n",
    "        matches = re.finditer(key, text)\n",
    "        counter.update([m.group(1) for m in matches])\n",
    "        \n",
    "    for word in illegal_words:\n",
    "        key = r\"\\s(\" + word + \")\"\n",
    "        matches = re.finditer(key, text)\n",
    "        counter.update([m.group(1) for m in matches])\n",
    "        \n",
    "    return counter\n",
    "    \n",
    "df['illegal_count'] = list(map(illegal_count, df['text']))\n",
    "df['n_illegal_occurences'] = list(map(lambda x: sum(x.values()), df['illegal_count']))\n",
    "\n",
    "# Calculating the ratio of blacklisted words\n",
    "df['illegal_ratio'] = df['n_illegal_occurences']/df['n_words']"
   ]
  },
  {
   "cell_type": "markdown",
   "metadata": {},
   "source": [
    "## Plotting data"
   ]
  },
  {
   "cell_type": "code",
   "execution_count": 206,
   "metadata": {},
   "outputs": [],
   "source": [
    "df.set_index('date', inplace=True)"
   ]
  },
  {
   "cell_type": "code",
   "execution_count": 207,
   "metadata": {},
   "outputs": [],
   "source": [
    "df = df.sort_index()"
   ]
  },
  {
   "cell_type": "code",
   "execution_count": 208,
   "metadata": {},
   "outputs": [
    {
     "name": "stdout",
     "output_type": "stream",
     "text": [
      "Mean illegal ratio HD: 0.00537130210875959\n",
      "Mean illegal ratio MD: 0.0035231176514371023\n",
      "Mean illegal ratio FD: 0.004548303783287122\n"
     ]
    }
   ],
   "source": [
    "print(\"Mean illegal ratio HD:\", df.loc[df['type'] == \"HD\"]['illegal_ratio'].mean())\n",
    "print(\"Mean illegal ratio MD:\", df.loc[df['type'] == \"MD\"]['illegal_ratio'].mean())\n",
    "print(\"Mean illegal ratio FD:\", df.loc[df['type'] == \"FD\"]['illegal_ratio'].mean())"
   ]
  },
  {
   "cell_type": "code",
   "execution_count": 232,
   "metadata": {},
   "outputs": [
    {
     "data": {
      "text/html": [
       "<div>\n",
       "<style scoped>\n",
       "    .dataframe tbody tr th:only-of-type {\n",
       "        vertical-align: middle;\n",
       "    }\n",
       "\n",
       "    .dataframe tbody tr th {\n",
       "        vertical-align: top;\n",
       "    }\n",
       "\n",
       "    .dataframe thead th {\n",
       "        text-align: right;\n",
       "    }\n",
       "</style>\n",
       "<table border=\"1\" class=\"dataframe\">\n",
       "  <thead>\n",
       "    <tr style=\"text-align: right;\">\n",
       "      <th></th>\n",
       "      <th>level_0</th>\n",
       "      <th>index</th>\n",
       "      <th>url</th>\n",
       "      <th>text</th>\n",
       "      <th>type</th>\n",
       "      <th>word_count</th>\n",
       "      <th>n_words</th>\n",
       "      <th>illegal_count</th>\n",
       "      <th>n_illegal_occurences</th>\n",
       "      <th>illegal_ratio</th>\n",
       "    </tr>\n",
       "    <tr>\n",
       "      <th>date</th>\n",
       "      <th></th>\n",
       "      <th></th>\n",
       "      <th></th>\n",
       "      <th></th>\n",
       "      <th></th>\n",
       "      <th></th>\n",
       "      <th></th>\n",
       "      <th></th>\n",
       "      <th></th>\n",
       "      <th></th>\n",
       "    </tr>\n",
       "  </thead>\n",
       "  <tbody>\n",
       "    <tr>\n",
       "      <th>2014-10-02</th>\n",
       "      <td>1983</td>\n",
       "      <td>1983</td>\n",
       "      <td>https://www.domstol.se/hogsta-forvaltningsdomstolen/avgoranden/2014/45355/</td>\n",
       "      <td>HFD 2014 ref 55\\nEtt beslut att inte lämna ut information enligt 26 § personuppgiftslagen på gru...</td>\n",
       "      <td>FD</td>\n",
       "      <td>{'hfd': 1, 'ref': 1, 'ett': 4, 'beslut': 10, 'att': 15, 'inte': 10, 'lämna': 4, 'ut': 6, 'inform...</td>\n",
       "      <td>485</td>\n",
       "      <td>{}</td>\n",
       "      <td>0</td>\n",
       "      <td>0.0</td>\n",
       "    </tr>\n",
       "    <tr>\n",
       "      <th>2010-06-16</th>\n",
       "      <td>520</td>\n",
       "      <td>520</td>\n",
       "      <td>https://www.domstol.se/hogsta-forvaltningsdomstolen/avgoranden/2010/49908/</td>\n",
       "      <td>1 (3)\\n\\nREGERINGSRÄTTENS\\nDOM\\nMål nr\\n2671-09, 2673-09 och\\n2674-09\\n\\nmeddelad i Stockholm de...</td>\n",
       "      <td>FD</td>\n",
       "      <td>{'regeringsrättens': 3, 'dom': 5, 'mål': 6, 'nr': 5, '-': 15, 'och': 7, 'meddelad': 1, 'i': 9, '...</td>\n",
       "      <td>270</td>\n",
       "      <td>{}</td>\n",
       "      <td>0</td>\n",
       "      <td>0.0</td>\n",
       "    </tr>\n",
       "    <tr>\n",
       "      <th>2013-11-18</th>\n",
       "      <td>1696</td>\n",
       "      <td>1696</td>\n",
       "      <td>https://www.domstol.se/hogsta-forvaltningsdomstolen/avgoranden/2013/46619/</td>\n",
       "      <td>1 (2)\\n\\nHÖGSTA\\nFÖRVALTNINGSDOMSTOLENS\\nDOM\\nMål nr\\n4061-13\\n\\nmeddelad i Stockholm den 18 nov...</td>\n",
       "      <td>FD</td>\n",
       "      <td>{'högsta': 6, 'förvaltningsdomstolens': 2, 'dom': 2, 'mål': 2, 'nr': 2, '-': 5, 'meddelad': 1, '...</td>\n",
       "      <td>299</td>\n",
       "      <td>{}</td>\n",
       "      <td>0</td>\n",
       "      <td>0.0</td>\n",
       "    </tr>\n",
       "    <tr>\n",
       "      <th>2013-11-21</th>\n",
       "      <td>1702</td>\n",
       "      <td>1702</td>\n",
       "      <td>https://www.domstol.se/hogsta-forvaltningsdomstolen/avgoranden/2013/46615/</td>\n",
       "      <td>1 (2)\\n\\nHÖGSTA\\nFÖRVALTNINGSDOMSTOLENS\\nDOM\\nMål nr 730-13\\nmeddelad i Stockholm den 21 novembe...</td>\n",
       "      <td>FD</td>\n",
       "      <td>{'högsta': 5, 'förvaltningsdomstolens': 2, 'dom': 2, 'mål': 2, 'nr': 2, '-': 6, 'meddelad': 1, '...</td>\n",
       "      <td>200</td>\n",
       "      <td>{}</td>\n",
       "      <td>0</td>\n",
       "      <td>0.0</td>\n",
       "    </tr>\n",
       "    <tr>\n",
       "      <th>2013-11-28</th>\n",
       "      <td>1710</td>\n",
       "      <td>1710</td>\n",
       "      <td>https://www.domstol.se/hogsta-forvaltningsdomstolen/avgoranden/2013/47065/</td>\n",
       "      <td>1 (4)\\n\\nHÖGSTA\\nFÖRVALTNINGSDOMSTOLENS\\nBESLUT\\nMål nr\\n2618-13\\n\\nmeddelat i Stockholm den 28 ...</td>\n",
       "      <td>FD</td>\n",
       "      <td>{'högsta': 7, 'förvaltningsdomstolens': 2, 'beslut': 6, 'mål': 6, 'nr': 6, '-': 9, 'meddelat': 1...</td>\n",
       "      <td>580</td>\n",
       "      <td>{}</td>\n",
       "      <td>0</td>\n",
       "      <td>0.0</td>\n",
       "    </tr>\n",
       "    <tr>\n",
       "      <th>...</th>\n",
       "      <td>...</td>\n",
       "      <td>...</td>\n",
       "      <td>...</td>\n",
       "      <td>...</td>\n",
       "      <td>...</td>\n",
       "      <td>...</td>\n",
       "      <td>...</td>\n",
       "      <td>...</td>\n",
       "      <td>...</td>\n",
       "      <td>...</td>\n",
       "    </tr>\n",
       "    <tr>\n",
       "      <th>2016-05-10</th>\n",
       "      <td>2447</td>\n",
       "      <td>2447</td>\n",
       "      <td>https://www.domstol.se/hogsta-forvaltningsdomstolen/avgoranden/2016/43480/</td>\n",
       "      <td></td>\n",
       "      <td>FD</td>\n",
       "      <td>{}</td>\n",
       "      <td>0</td>\n",
       "      <td>{}</td>\n",
       "      <td>0</td>\n",
       "      <td>NaN</td>\n",
       "    </tr>\n",
       "    <tr>\n",
       "      <th>2016-06-16</th>\n",
       "      <td>2493</td>\n",
       "      <td>2493</td>\n",
       "      <td>https://www.domstol.se/hogsta-domstolen/avgoranden/2016/35890/</td>\n",
       "      <td></td>\n",
       "      <td>HD</td>\n",
       "      <td>{}</td>\n",
       "      <td>0</td>\n",
       "      <td>{}</td>\n",
       "      <td>0</td>\n",
       "      <td>NaN</td>\n",
       "    </tr>\n",
       "    <tr>\n",
       "      <th>2016-11-07</th>\n",
       "      <td>2589</td>\n",
       "      <td>2589</td>\n",
       "      <td>https://www.domstol.se/hogsta-forvaltningsdomstolen/avgoranden/2016/43363/</td>\n",
       "      <td></td>\n",
       "      <td>FD</td>\n",
       "      <td>{}</td>\n",
       "      <td>0</td>\n",
       "      <td>{}</td>\n",
       "      <td>0</td>\n",
       "      <td>NaN</td>\n",
       "    </tr>\n",
       "    <tr>\n",
       "      <th>2018-05-22</th>\n",
       "      <td>3067</td>\n",
       "      <td>3067</td>\n",
       "      <td>https://www.domstol.se/hogsta-forvaltningsdomstolen/avgoranden/2018/41750/</td>\n",
       "      <td></td>\n",
       "      <td>FD</td>\n",
       "      <td>{}</td>\n",
       "      <td>0</td>\n",
       "      <td>{}</td>\n",
       "      <td>0</td>\n",
       "      <td>NaN</td>\n",
       "    </tr>\n",
       "    <tr>\n",
       "      <th>2019-11-27</th>\n",
       "      <td>3510</td>\n",
       "      <td>3510</td>\n",
       "      <td>http://www.arbetsdomstolen.se//upload/pdf/2019/53-19.pdf</td>\n",
       "      <td></td>\n",
       "      <td>AD</td>\n",
       "      <td>{}</td>\n",
       "      <td>0</td>\n",
       "      <td>{}</td>\n",
       "      <td>0</td>\n",
       "      <td>NaN</td>\n",
       "    </tr>\n",
       "  </tbody>\n",
       "</table>\n",
       "<p>3649 rows × 10 columns</p>\n",
       "</div>"
      ],
      "text/plain": [
       "            level_0  index                                                                         url                                                                                                 text type                                                                                           word_count  n_words illegal_count  n_illegal_occurences  illegal_ratio\n",
       "date                                                                                                                                                                                                                                                                                                                                                                             \n",
       "2014-10-02     1983   1983  https://www.domstol.se/hogsta-forvaltningsdomstolen/avgoranden/2014/45355/  HFD 2014 ref 55\\nEtt beslut att inte lämna ut information enligt 26 § personuppgiftslagen på gru...   FD  {'hfd': 1, 'ref': 1, 'ett': 4, 'beslut': 10, 'att': 15, 'inte': 10, 'lämna': 4, 'ut': 6, 'inform...      485            {}                     0            0.0\n",
       "2010-06-16      520    520  https://www.domstol.se/hogsta-forvaltningsdomstolen/avgoranden/2010/49908/  1 (3)\\n\\nREGERINGSRÄTTENS\\nDOM\\nMål nr\\n2671-09, 2673-09 och\\n2674-09\\n\\nmeddelad i Stockholm de...   FD  {'regeringsrättens': 3, 'dom': 5, 'mål': 6, 'nr': 5, '-': 15, 'och': 7, 'meddelad': 1, 'i': 9, '...      270            {}                     0            0.0\n",
       "2013-11-18     1696   1696  https://www.domstol.se/hogsta-forvaltningsdomstolen/avgoranden/2013/46619/  1 (2)\\n\\nHÖGSTA\\nFÖRVALTNINGSDOMSTOLENS\\nDOM\\nMål nr\\n4061-13\\n\\nmeddelad i Stockholm den 18 nov...   FD  {'högsta': 6, 'förvaltningsdomstolens': 2, 'dom': 2, 'mål': 2, 'nr': 2, '-': 5, 'meddelad': 1, '...      299            {}                     0            0.0\n",
       "2013-11-21     1702   1702  https://www.domstol.se/hogsta-forvaltningsdomstolen/avgoranden/2013/46615/  1 (2)\\n\\nHÖGSTA\\nFÖRVALTNINGSDOMSTOLENS\\nDOM\\nMål nr 730-13\\nmeddelad i Stockholm den 21 novembe...   FD  {'högsta': 5, 'förvaltningsdomstolens': 2, 'dom': 2, 'mål': 2, 'nr': 2, '-': 6, 'meddelad': 1, '...      200            {}                     0            0.0\n",
       "2013-11-28     1710   1710  https://www.domstol.se/hogsta-forvaltningsdomstolen/avgoranden/2013/47065/  1 (4)\\n\\nHÖGSTA\\nFÖRVALTNINGSDOMSTOLENS\\nBESLUT\\nMål nr\\n2618-13\\n\\nmeddelat i Stockholm den 28 ...   FD  {'högsta': 7, 'förvaltningsdomstolens': 2, 'beslut': 6, 'mål': 6, 'nr': 6, '-': 9, 'meddelat': 1...      580            {}                     0            0.0\n",
       "...             ...    ...                                                                         ...                                                                                                  ...  ...                                                                                                  ...      ...           ...                   ...            ...\n",
       "2016-05-10     2447   2447  https://www.domstol.se/hogsta-forvaltningsdomstolen/avgoranden/2016/43480/                                                                                                \n",
       "\n",
       "\n",
       "\n",
       "\n",
       "   FD                                                                                                   {}        0            {}                     0            NaN\n",
       "2016-06-16     2493   2493              https://www.domstol.se/hogsta-domstolen/avgoranden/2016/35890/                                                                                      \n",
       "\n",
       "\n",
       "\n",
       "\n",
       "\n",
       "\n",
       "\n",
       "\n",
       "\n",
       "\n",
       "\n",
       "\n",
       "\n",
       "\n",
       "   HD                                                                                                   {}        0            {}                     0            NaN\n",
       "2016-11-07     2589   2589  https://www.domstol.se/hogsta-forvaltningsdomstolen/avgoranden/2016/43363/                                                                                              \n",
       "\n",
       "\n",
       "\n",
       "\n",
       "\n",
       "\n",
       "   FD                                                                                                   {}        0            {}                     0            NaN\n",
       "2018-05-22     3067   3067  https://www.domstol.se/hogsta-forvaltningsdomstolen/avgoranden/2018/41750/                                                                                                  \n",
       "\n",
       "\n",
       "   FD                                                                                                   {}        0            {}                     0            NaN\n",
       "2019-11-27     3510   3510                    http://www.arbetsdomstolen.se//upload/pdf/2019/53-19.pdf                                                         \n",
       "\n",
       "\n",
       "\n",
       "\n",
       "\n",
       "\n",
       "\n",
       "\n",
       "\n",
       "\n",
       "\n",
       "\n",
       "\n",
       "\n",
       "\n",
       "\n",
       "\n",
       "\n",
       "\n",
       "\n",
       "\n",
       "\n",
       "\n",
       "\n",
       "\n",
       "\n",
       "\n",
       "\n",
       "\n",
       "\n",
       "\n",
       "\n",
       "\n",
       "\n",
       "\n",
       "\n",
       "\n",
       "\n",
       "\n",
       "\n",
       "\n",
       "\n",
       "\n",
       "   AD                                                                                                   {}        0            {}                     0            NaN\n",
       "\n",
       "[3649 rows x 10 columns]"
      ]
     },
     "execution_count": 232,
     "metadata": {},
     "output_type": "execute_result"
    },
    {
     "data": {
      "image/png": "[encoded data removed]",
      "text/plain": [
       "<Figure size 720x720 with 1 Axes>"
      ]
     },
     "metadata": {
      "needs_background": "light"
     },
     "output_type": "display_data"
    }
   ],
   "source": [
    "df.loc[df['type'] == 'HD']['illegal_ratio'].rolling('500d').mean().plot(label=\"HD\", legend = True, title= 'Mean blacklisted word ratio over time', figsize=(10, 10))\n",
    "df.loc[df['type'] == 'MD']['illegal_ratio'].rolling('500d').mean().plot(label=\"MD\", legend = True)\n",
    "df.loc[df['type'] == 'FD']['illegal_ratio'].rolling('500d').mean().plot(label=\"FD\", legend = True)\n",
    "df.loc[df['type'] == 'AD']['illegal_ratio'].rolling('500d').mean().plot(label=\"AD\", legend = True)\n"
   ]
  },
  {
   "cell_type": "markdown",
   "metadata": {},
   "source": [
    "## Most common blacklisted words"
   ]
  },
  {
   "cell_type": "code",
   "execution_count": 248,
   "metadata": {},
   "outputs": [
    {
     "data": {
      "text/plain": [
       "[('företa', 8659),\n",
       " ('föreligger', 5392),\n",
       " ('förelegat', 2643),\n",
       " ('förelegat ', 2036),\n",
       " ('föreligga', 1741),\n",
       " ('förelåg', 1580),\n",
       " ('erfar', 1218),\n",
       " ('underlåtit', 1204),\n",
       " ('erfaren', 1178),\n",
       " ('föranlett', 1178),\n",
       " ('förfall', 950),\n",
       " ('erhållit', 912),\n",
       " ('erhålla', 751),\n",
       " ('underlåten', 719),\n",
       " ('föranleder', 670),\n",
       " ('jämkas', 640),\n",
       " ('nyttja', 616),\n",
       " ('erhöll', 601),\n",
       " ('förordnande', 559),\n",
       " ('föranleda', 549)]"
      ]
     },
     "execution_count": 248,
     "metadata": {},
     "output_type": "execute_result"
    }
   ],
   "source": [
    "counter = Counter()\n",
    "for count in df['illegal_count'].iloc:\n",
    "    counter += count\n",
    "counter.most_common(20)"
   ]
  },
  {
   "cell_type": "markdown",
   "metadata": {},
   "source": [
    "## Decisions with zero blacklisted words"
   ]
  },
  {
   "cell_type": "code",
   "execution_count": 260,
   "metadata": {},
   "outputs": [],
   "source": [
    "pd.set_option('max_colwidth', None)\n",
    "pd.set_option('max_rows', 10)"
   ]
  },
  {
   "cell_type": "code",
   "execution_count": 355,
   "metadata": {},
   "outputs": [
    {
     "name": "stdout",
     "output_type": "stream",
     "text": [
      "           type                                                                               url\n",
      "date                                                                                             \n",
      "2003-02-12   AD                               http://www.arbetsdomstolen.se//upload/pdf/15-03.pdf\n",
      "2010-03-03   FD        https://www.domstol.se/hogsta-forvaltningsdomstolen/avgoranden/2010/50015/\n",
      "2010-03-15   FD        https://www.domstol.se/hogsta-forvaltningsdomstolen/avgoranden/2010/50003/\n",
      "2010-03-15   FD        https://www.domstol.se/hogsta-forvaltningsdomstolen/avgoranden/2010/50007/\n",
      "2010-03-17   FD        https://www.domstol.se/hogsta-forvaltningsdomstolen/avgoranden/2010/50280/\n",
      "...         ...                                                                               ...\n",
      "2020-03-25   HD                    https://www.domstol.se/hogsta-domstolen/avgoranden/2020/57560/\n",
      "2020-04-01   MD  https://www.domstol.se/migrationsoverdomstolen/vagledande-avgoranden/2020/60124/\n",
      "2020-04-01   FD        https://www.domstol.se/hogsta-forvaltningsdomstolen/avgoranden/2020/60167/\n",
      "2020-04-02   HD                    https://www.domstol.se/hogsta-domstolen/avgoranden/2020/22639/\n",
      "2020-04-03   FD        https://www.domstol.se/hogsta-forvaltningsdomstolen/avgoranden/2020/60279/\n",
      "\n",
      "[463 rows x 2 columns]\n"
     ]
    },
    {
     "data": {
      "text/plain": [
       "<matplotlib.axes._subplots.AxesSubplot at 0x7f94d7beda50>"
      ]
     },
     "execution_count": 355,
     "metadata": {},
     "output_type": "execute_result"
    },
    {
     "data": {
      "image/png": "[encoded data removed]",
      "text/plain": [
       "<Figure size 432x288 with 1 Axes>"
      ]
     },
     "metadata": {
      "needs_background": "light"
     },
     "output_type": "display_data"
    }
   ],
   "source": [
    "print(df.loc[df['n_illegal_occurences'] == 0][['type', 'url']].sort_values(['date']))\n",
    "df2 = df.reset_index()\n",
    "df2.loc[(df2['n_illegal_occurences'] == 0) & (df2['type'] == \"HD\")]['date'].hist(bins = 30)"
   ]
  },
  {
   "cell_type": "code",
   "execution_count": 359,
   "metadata": {},
   "outputs": [
    {
     "data": {
      "text/plain": [
       "<matplotlib.axes._subplots.AxesSubplot at 0x7f94d78aed90>"
      ]
     },
     "execution_count": 359,
     "metadata": {},
     "output_type": "execute_result"
    },
    {
     "data": {
      "image/png": "[encoded data removed]",
      "text/plain": [
       "<Figure size 432x288 with 1 Axes>"
      ]
     },
     "metadata": {
      "needs_background": "light"
     },
     "output_type": "display_data"
    }
   ],
   "source": [
    "df2.loc[(df2['n_illegal_occurences'] == 0) & (df2['type'] == \"MD\")]['date'].hist(bins = 30)"
   ]
  },
  {
   "cell_type": "code",
   "execution_count": 357,
   "metadata": {},
   "outputs": [
    {
     "data": {
      "text/plain": [
       "<matplotlib.axes._subplots.AxesSubplot at 0x7f94d7a05850>"
      ]
     },
     "execution_count": 357,
     "metadata": {},
     "output_type": "execute_result"
    },
    {
     "data": {
      "image/png": "[encoded data removed]",
      "text/plain": [
       "<Figure size 432x288 with 1 Axes>"
      ]
     },
     "metadata": {
      "needs_background": "light"
     },
     "output_type": "display_data"
    }
   ],
   "source": [
    "df2.loc[(df2['n_illegal_occurences'] == 0) & (df2['type'] == \"FD\")]['date'].hist(bins = 30)"
   ]
  },
  {
   "cell_type": "code",
   "execution_count": 356,
   "metadata": {},
   "outputs": [
    {
     "data": {
      "text/plain": [
       "<matplotlib.axes._subplots.AxesSubplot at 0x7f94d7aca410>"
      ]
     },
     "execution_count": 356,
     "metadata": {},
     "output_type": "execute_result"
    },
    {
     "data": {
      "image/png": "[encoded data removed]",
      "text/plain": [
       "<Figure size 432x288 with 1 Axes>"
      ]
     },
     "metadata": {
      "needs_background": "light"
     },
     "output_type": "display_data"
    }
   ],
   "source": [
    "df2.loc[(df2['n_illegal_occurences'] == 0) & (df2['type'] == \"AD\")]['date'].hist(bins = 30)"
   ]
  },
  {
   "cell_type": "code",
   "execution_count": 320,
   "metadata": {},
   "outputs": [
    {
     "data": {
      "text/html": [
       "<div>\n",
       "<style scoped>\n",
       "    .dataframe tbody tr th:only-of-type {\n",
       "        vertical-align: middle;\n",
       "    }\n",
       "\n",
       "    .dataframe tbody tr th {\n",
       "        vertical-align: top;\n",
       "    }\n",
       "\n",
       "    .dataframe thead th {\n",
       "        text-align: right;\n",
       "    }\n",
       "</style>\n",
       "<table border=\"1\" class=\"dataframe\">\n",
       "  <thead>\n",
       "    <tr style=\"text-align: right;\">\n",
       "      <th></th>\n",
       "      <th>url</th>\n",
       "      <th>type</th>\n",
       "      <th>illegal_ratio</th>\n",
       "    </tr>\n",
       "  </thead>\n",
       "  <tbody>\n",
       "    <tr>\n",
       "      <th>312</th>\n",
       "      <td>http://www.arbetsdomstolen.se//upload/pdf/2008/75-08.pdf</td>\n",
       "      <td>AD</td>\n",
       "      <td>0.032491</td>\n",
       "    </tr>\n",
       "    <tr>\n",
       "      <th>2500</th>\n",
       "      <td>https://www.domstol.se/hogsta-forvaltningsdomstolen/avgoranden/2016/43678/</td>\n",
       "      <td>FD</td>\n",
       "      <td>0.038952</td>\n",
       "    </tr>\n",
       "    <tr>\n",
       "      <th>2991</th>\n",
       "      <td>https://www.domstol.se/hogsta-domstolen/avgoranden/2018/35202/</td>\n",
       "      <td>HD</td>\n",
       "      <td>0.037219</td>\n",
       "    </tr>\n",
       "    <tr>\n",
       "      <th>2903</th>\n",
       "      <td>./MigrationsoÌverdomstolen avgoÌranden/2017-11-14.pdf</td>\n",
       "      <td>MD</td>\n",
       "      <td>0.030780</td>\n",
       "    </tr>\n",
       "  </tbody>\n",
       "</table>\n",
       "</div>"
      ],
      "text/plain": [
       "                                                                             url type  illegal_ratio\n",
       "312                     http://www.arbetsdomstolen.se//upload/pdf/2008/75-08.pdf   AD       0.032491\n",
       "2500  https://www.domstol.se/hogsta-forvaltningsdomstolen/avgoranden/2016/43678/   FD       0.038952\n",
       "2991              https://www.domstol.se/hogsta-domstolen/avgoranden/2018/35202/   HD       0.037219\n",
       "2903                     ./MigrationsoÌverdomstolen avgoÌranden/2017-11-14.pdf   MD       0.030780"
      ]
     },
     "execution_count": 320,
     "metadata": {},
     "output_type": "execute_result"
    }
   ],
   "source": [
    "# Max\n",
    "df2 = df.reset_index()\n",
    "df2.loc[df2.groupby(['type'])['illegal_ratio'].idxmax()][['url', 'type', 'illegal_ratio']]"
   ]
  }
 ],
 "metadata": {
  "kernelspec": {
   "display_name": "Python 3",
   "language": "python",
   "name": "python3"
  },
  "language_info": {
   "codemirror_mode": {
    "name": "ipython",
    "version": 3
   },
   "file_extension": ".py",
   "mimetype": "text/x-python",
   "name": "python",
   "nbconvert_exporter": "python",
   "pygments_lexer": "ipython3",
   "version": "3.7.4"
  }
 },
 "nbformat": 4,
 "nbformat_minor": 4
}
